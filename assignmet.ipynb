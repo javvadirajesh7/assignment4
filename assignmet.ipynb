{
 "cells": [
  {
   "cell_type": "markdown",
   "metadata": {},
   "source": [
    "# finding he arm strong number between given intreve"
   ]
  },
  {
   "cell_type": "code",
   "execution_count": null,
   "metadata": {},
   "outputs": [],
   "source": [
    "sum = 0 \n",
    "\n",
    "for i in range(1042000,702648265):\n",
    "    \n",
    "    sum = 0\n",
    "    \n",
    "    temp = i\n",
    "    \n",
    "    while temp > 0 :\n",
    "        \n",
    "        digit = i % 10\n",
    "        \n",
    "        sum = sum + digit**3\n",
    "        \n",
    "        temp = temp//10\n",
    "        \n",
    "        if (i== sum ):\n",
    "            \n",
    "            print(\"the first armstron number is :\",sum)\n",
    "            \n",
    "            \n",
    "        break   \n",
    "            \n",
    "    \n",
    "    "
   ]
  },
  {
   "cell_type": "code",
   "execution_count": null,
   "metadata": {},
   "outputs": [],
   "source": []
  }
 ],
 "metadata": {
  "kernelspec": {
   "display_name": "Python 3",
   "language": "python",
   "name": "python3"
  },
  "language_info": {
   "codemirror_mode": {
    "name": "ipython",
    "version": 3
   },
   "file_extension": ".py",
   "mimetype": "text/x-python",
   "name": "python",
   "nbconvert_exporter": "python",
   "pygments_lexer": "ipython3",
   "version": "3.6.10"
  }
 },
 "nbformat": 4,
 "nbformat_minor": 4
}
